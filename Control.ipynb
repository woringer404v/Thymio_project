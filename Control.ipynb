{
 "cells": [
  {
   "cell_type": "code",
   "execution_count": null,
   "metadata": {},
   "outputs": [],
   "source": [
    "import numpy as np\n",
    "\n",
    "kp =\n",
    "ka =\n",
    "kb = \n",
    " \n",
    "def set_motors_speed(left_speed,right_speed):\n",
    "    motor_left_target = left_speed\n",
    "    motor_right_target = right_speed\n",
    "    \n",
    "def stop_motors():\n",
    "    motor_left_target = 0\n",
    "    motor_right_target = 0\n",
    "    \n",
    "def controller_astolfi(robot_pos,next_pos,angle):\n",
    "    delta = np.subtract(robot_pos,next_pos)\n",
    "    rho = np.sqrt(np.sum(np.square(delta)))\n",
    "    alpha = -(angle) + np.arctan2(delta[1],delta[0])\n",
    "    beta = -(angle + alpha)\n",
    "    \n",
    "    v = kp*rho\n",
    "    omega = ka*alpha+kb*beta\n",
    "    \n",
    "    left_speed = v+l*omega\n",
    "    right_speed = v-l*omega\n",
    "    \n",
    "    set_motors_speed(left_speed,right_speed)\n",
    "    "
   ]
  }
 ],
 "metadata": {
  "kernelspec": {
   "display_name": "Python 3",
   "language": "python",
   "name": "python3"
  },
  "language_info": {
   "codemirror_mode": {
    "name": "ipython",
    "version": 3
   },
   "file_extension": ".py",
   "mimetype": "text/x-python",
   "name": "python",
   "nbconvert_exporter": "python",
   "pygments_lexer": "ipython3",
   "version": "3.7.4"
  }
 },
 "nbformat": 4,
 "nbformat_minor": 2
}
