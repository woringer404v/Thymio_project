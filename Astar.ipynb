{
 "cells": [
  {
   "cell_type": "markdown",
   "metadata": {},
   "source": [
    "Option+Shift+F pour formatter\n",
    "cmd+maj +7 commenter"
   ]
  },
  {
   "cell_type": "code",
   "execution_count": 1,
   "metadata": {},
   "outputs": [],
   "source": [
    "from typing import Tuple, List, List, Dict\n",
    "import numpy as np\n",
    "import math\n",
    "import matplotlib.pyplot as plt\n",
    "from scipy.ndimage import binary_dilation, generate_binary_structure"
   ]
  },
  {
   "cell_type": "code",
   "execution_count": 2,
   "metadata": {},
   "outputs": [],
   "source": [
    "Node = Tuple[int,int]"
   ]
  },
  {
   "cell_type": "code",
   "execution_count": 3,
   "metadata": {},
   "outputs": [],
   "source": [
    "def reconstruct_path(cameFrom: Dict[Node, Node], current: Node) -> List[Node]:\n",
    "    # TODO docstring\n",
    "\n",
    "    # \"\"\"\n",
    "    # Recurrently reconstructs the path from start node to the current node\n",
    "    # :param cameFrom: map (dictionary) containing for each node n the node immediately\n",
    "    #                  preceding it on the cheapest path from start to n\n",
    "    #                  currently known.<\n",
    "    # :param current: current node (x, y)\n",
    "    # :return: list of nodes from start to current node\n",
    "    # \"\"\"\n",
    "\n",
    "    total_path: List[Node] = [current]\n",
    "    while current in cameFrom.keys():\n",
    "        total_path.insert(0, cameFrom[current])\n",
    "        current = cameFrom[current]\n",
    "    return total_path"
   ]
  },
  {
   "cell_type": "code",
   "execution_count": 4,
   "metadata": {},
   "outputs": [],
   "source": [
    "def get_movements(movement_type: str) -> List[Tuple[int, int, float]]:\n",
    "    if movement_type == \"4N\":\n",
    "        return _get_movements_4n()\n",
    "    elif movement_type == \"8N\":\n",
    "        return _get_movements_8n()\n",
    "    else:\n",
    "        raise ValueError(\"Unknown movement\")\n",
    "\n",
    "\n",
    "def _get_movements_4n() -> List[Tuple[int, int, float]]:\n",
    "    # TODO docstring\n",
    "    # \"\"\"\n",
    "    # Get all possible 4-connectivity movements (up, down, left right).\n",
    "    # :return: list of movements with cost [(dx, dy, movement_cost)]\n",
    "    # \"\"\"\n",
    "    return [\n",
    "        (1, 0, 1.0),\n",
    "        (0, 1, 1.0),\n",
    "        (-1, 0, 1.0),\n",
    "        (0, -1, 1.0),\n",
    "    ]\n",
    "\n",
    "\n",
    "def _get_movements_8n() -> List[Tuple[int, int, float]]:\n",
    "    # TODO docstring\n",
    "    # \"\"\"\n",
    "    # Get all possible 8-connectivity movements. Equivalent to get_movements_in_radius(1)\n",
    "    # (up, down, left, right and the 4 diagonals).\n",
    "    # :return: list of movements with cost [(dx, dy, movement_cost)]\n",
    "    # \"\"\"\n",
    "    s2 = math.sqrt(2)\n",
    "    return [\n",
    "        (1, 0, 1.0),\n",
    "        (0, 1, 1.0),\n",
    "        (-1, 0, 1.0),\n",
    "        (0, -1, 1.0),\n",
    "        (1, 1, s2),\n",
    "        (-1, 1, s2),\n",
    "        (-1, -1, s2),\n",
    "        (1, -1, s2),\n",
    "    ]"
   ]
  },
  {
   "cell_type": "code",
   "execution_count": 5,
   "metadata": {},
   "outputs": [],
   "source": [
    "def orientation(parent: Node, current: Node) -> Tuple[int, int]:\n",
    "    return (current[0] - parent[0], current[1] - parent[1])\n",
    "\n",
    "\n",
    "def turn_cost(parent:Node, current: Node, neighbor:Node, alpha : float = 1) -> float:\n",
    "    current_orientation : Tuple[int, int] = orientation(parent, current)\n",
    "    next_orientation : Tuple[int, int] = orientation(current, neighbor)\n",
    "    turn = abs((current_orientation[0]-next_orientation[0])) + abs((current_orientation[1]-next_orientation[1]))\n",
    "    return alpha*turn"
   ]
  },
  {
   "cell_type": "code",
   "execution_count": 6,
   "metadata": {},
   "outputs": [],
   "source": [
    "def A_Star(\n",
    "    maze: np.ndarray,\n",
    "    start: Node,\n",
    "    goal: Node,\n",
    "    movement_type: str = \"8N\",\n",
    "):\n",
    "    # TODO docstring\n",
    "    # \"\"\"\n",
    "    # A* for 2D occupancy grid. Finds a path from start to goal.\n",
    "    # h is the heuristic function. h(n) estimates the cost to reach goal from node n.\n",
    "    # :param start: start node (x, y)\n",
    "    # :param goal_m: goal node (x, y)\n",
    "    # :param maze: the grid map\n",
    "    # :param movement: select between 4-connectivity ('4N') and 8-connectivity ('8N', default)\n",
    "    # :return: a tuple that contains: (the resulting path in meters, the resulting path in data array indices)\n",
    "    # \"\"\"\n",
    "    for point in [start, goal]:\n",
    "        assert (\n",
    "            0 <= point[0] <= maze.shape[0] and 0 <= point[1] <= maze.shape[1]\n",
    "        ), \"start or end goal not contained in the map\"\n",
    "\n",
    "    if maze[start[0], start[1]]:\n",
    "        raise Exception(\"Start node is not traversable\")\n",
    "\n",
    "    if maze[goal[0], goal[1]]:\n",
    "        raise Exception(\"Goal node is not traversable\")\n",
    "\n",
    "    openList: List[Node] = [start]\n",
    "    closedList: List[Node] = []\n",
    "    cameFrom: Dict[Node, Node] = {start: (-1,-1)} # dépend de l'orientation du robot\n",
    "\n",
    "    gScore: np.ndarray = np.ones(maze.shape) * np.inf\n",
    "    gScore[start] = 0\n",
    "\n",
    "    hScore: np.ndarray = np.array(\n",
    "        [\n",
    "            [\n",
    "                abs((row - goal[0]) + (abs(col - goal[1])))\n",
    "                for col in range(maze.shape[1])\n",
    "            ]\n",
    "            for row in range(maze.shape[0])\n",
    "        ]\n",
    "    )\n",
    "\n",
    "    fScore: np.ndarray = np.ones(maze.shape) * np.inf\n",
    "    fScore[start] = gScore[start] + hScore[start]\n",
    "    \n",
    "    def get_fScore(position: Node)-> float :\n",
    "            return fScore[position]\n",
    "\n",
    "    while openList:\n",
    "        \n",
    "        current : Node = min(openList, key=get_fScore)\n",
    "\n",
    "        if current == goal:\n",
    "            return reconstruct_path(cameFrom, current)\n",
    "\n",
    "        openList.remove(current)\n",
    "        closedList.append(current)\n",
    "\n",
    "        for dx, dy, deltacost in get_movements(movement_type):\n",
    "\n",
    "            neighbor : Node = (current[0] + dx, current[1] + dy)\n",
    "\n",
    "            if (\n",
    "                (neighbor[0] >= maze.shape[0])\n",
    "                or (neighbor[1] >= maze.shape[1])\n",
    "                or (neighbor[0] < 0)\n",
    "                or (neighbor[1] < 0)\n",
    "            ):\n",
    "                continue\n",
    "\n",
    "            if (maze[neighbor[0], neighbor[1]]) or (neighbor in closedList):\n",
    "                continue\n",
    "\n",
    "            if neighbor not in openList:\n",
    "                openList.append(neighbor)\n",
    "                cameFrom[neighbor] = current\n",
    "                gScore[neighbor] = gScore[current] + deltacost + turn_cost(cameFrom[current], current, neighbor)\n",
    "                fScore[neighbor] = gScore[neighbor] + hScore[neighbor] \n",
    "\n",
    "    print(\"No path found to goal\")\n",
    "    return []"
   ]
  },
  {
   "cell_type": "code",
   "execution_count": 10,
   "metadata": {},
   "outputs": [
    {
     "data": {
      "image/png": "[encoded data removed]",
      "text/plain": [
       "<Figure size 700x700 with 1 Axes>"
      ]
     },
     "metadata": {},
     "output_type": "display_data"
    }
   ],
   "source": [
    "np.random.seed(seed=6)\n",
    "maze = np.random.randint(2, size=(50,50))\n",
    "for i in range(5):\n",
    "    maze = maze*np.random.randint(2, size=(50,50))\n",
    "\n",
    "\n",
    "struct = generate_binary_structure(2, 2)\n",
    "# iteration for size \n",
    "# structure pour diagonal or not \n",
    "maze = binary_dilation(maze, structure=struct, iterations=1)\n",
    "\n",
    "start:Tuple[int,int] = (0, 0)\n",
    "end = (40, 29)\n",
    "\n",
    "path = A_Star(maze, start, end)\n",
    "path_1 = np.array(path).reshape(-1, 2).transpose()\n",
    "\n",
    "\n",
    "def create_empty_plot(max_val_x,max_val_y):\n",
    "    \"\"\"\n",
    "    Helper function to create a figure of the desired dimensions & grid\n",
    "    \n",
    "    :param max_val: dimension of the map along the x and y dimensions\n",
    "    :return: the fig and ax objects.\n",
    "    \"\"\"\n",
    "    fig, ax = plt.subplots(figsize=(7,7))\n",
    "    \n",
    "    \n",
    "    major_ticks_x = np.arange(0, max_val_x+1, 5)\n",
    "    minor_ticks_x = np.arange(0, max_val_x+1, 1)\n",
    "    major_ticks_y = np.arange(0, max_val_y+1, 5)\n",
    "    minor_ticks_y = np.arange(0, max_val_y+1, 1)\n",
    "    ax.set_xticks(major_ticks_x)\n",
    "    ax.set_xticks(minor_ticks_x, minor=True)\n",
    "    ax.set_yticks(major_ticks_y)\n",
    "    ax.set_yticks(minor_ticks_y, minor=True)\n",
    "    ax.grid(which='minor', alpha=0.2)\n",
    "    ax.grid(which='major', alpha=0.5)\n",
    "    ax.set_ylim([-1,max_val_y])\n",
    "    ax.set_xlim([-1,max_val_x])\n",
    "    ax.grid(True)\n",
    "    \n",
    "    return fig, ax\n",
    "\n",
    "fig_astar, ax_astar = create_empty_plot(maze.shape[0],maze.shape[1])\n",
    "ax_astar.imshow(maze.transpose())\n",
    "ax_astar.plot(path_1[0], path_1[1], marker=\"o\", color = 'blue');\n",
    "ax_astar.scatter(start[0], start[1], marker=\"o\", color = 'green', s=200);\n",
    "ax_astar.scatter(end[0], end[1], marker=\"o\", color = 'purple', s=200);"
   ]
  },
  {
   "cell_type": "code",
   "execution_count": 13,
   "metadata": {},
   "outputs": [
    {
     "data": {
      "text/plain": [
       "(44, 2)"
      ]
     },
     "execution_count": 13,
     "metadata": {},
     "output_type": "execute_result"
    }
   ],
   "source": []
  },
  {
   "cell_type": "markdown",
   "metadata": {},
   "source": [
    "source : https://codereview.stackexchange.com/questions/28207/finding-the-closest-point-to-a-list-of-points"
   ]
  },
  {
   "cell_type": "code",
   "execution_count": 73,
   "metadata": {},
   "outputs": [],
   "source": [
    "def distance_to_path(\n",
    "    position: Tuple[float,float],\n",
    "    path: List[Node],\n",
    "    absolute : bool = True,\n",
    ")-> float:\n",
    "    path = np.asarray(path)\n",
    "    print(path.shape)\n",
    "    position = np.asarray(position)\n",
    "    dist_2 = np.sum((path - position)**2, axis=1)\n",
    "    min1_idx, min2_idx = np.argpartition(dist_2, 1)[0:2]   \n",
    "    area = np.cross(position-path[min1_idx,:],position-path[min2_idx,:])\n",
    "    print(path[min1_idx,:] - path[min2_idx,:])\n",
    "    diagonal = np.linalg.norm(path[min1_idx,:] - path[min2_idx,:],2)\n",
    "    distance = area/diagonal\n",
    "    if absolute:\n",
    "        distance = abs(distance)\n",
    "    return distance\n",
    "    \n",
    "    \n",
    "    \n",
    "    \n"
   ]
  },
  {
   "cell_type": "code",
   "execution_count": 74,
   "metadata": {},
   "outputs": [
    {
     "name": "stdout",
     "output_type": "stream",
     "text": [
      "(44, 2)\n",
      "[-1 -1]\n"
     ]
    },
    {
     "data": {
      "text/plain": [
       "0.7071067811865475"
      ]
     },
     "execution_count": 74,
     "metadata": {},
     "output_type": "execute_result"
    }
   ],
   "source": [
    "distance_to_path((20,11),path)"
   ]
  },
  {
   "cell_type": "code",
   "execution_count": 9,
   "metadata": {},
   "outputs": [],
   "source": [
    "\n",
    "# maze = np.array([[0, 0, 0, 0, 1, 0, 0, 0, 0, 0],\n",
    "#             [0, 0, 0, 0, 1, 0, 0, 0, 0, 0],\n",
    "#             [0, 0, 0, 0, 1, 0, 0, 0, 0, 0],\n",
    "#             [0, 0, 0, 0, 1, 0, 0, 0, 0, 0],\n",
    "#             [0, 0, 0, 0, 1, 0, 0, 0, 0, 0],\n",
    "#             [0, 0, 0, 0, 0, 0, 0, 0, 0, 0],\n",
    "#             [0, 0, 0, 0, 1, 0, 0, 0, 0, 0],\n",
    "#             [0, 0, 0, 0, 1, 0, 0, 0, 0, 0],\n",
    "#             [0, 0, 0, 0, 1, 0, 0, 0, 0, 0],\n",
    "#             [0, 0, 0, 0, 0, 0, 0, 0, 0, 0],])\n",
    "\n",
    "# star = (0, 0)\n",
    "# end = (7, 6)\n",
    "\n",
    "# height, width = 10,8\n",
    "\n",
    "\n",
    "# hScore = np.array([[(abs(col-end[1])+abs((row-end[0])))for col in range(width)]for row in range(height)])\n",
    "# hScore[end]=100\n",
    "# print(hScore)\n",
    "\n",
    "# np.ones((height, width))\n",
    "# #path = astar(maze, start, end)\n",
    "# #print(path)\n",
    "\n",
    "# openList = [(1,3), (2,4), (5,6)]\n",
    "\n",
    "# def get_fScore(position):\n",
    "#     return hScore[position]\n",
    "\n",
    "# # the node in openList having the lowest fScore[] value\n",
    "# current = min(openList, key=get_fScore)\n",
    "# print(current)\n",
    "\n",
    "a = set()\n",
    "a.add(1)\n",
    "a.remove(1)\n",
    "if a: \n",
    "    print(\"hi\")"
   ]
  }
 ],
 "metadata": {
  "kernelspec": {
   "display_name": "Python 3.10.7 64-bit",
   "language": "python",
   "name": "python3"
  },
  "language_info": {
   "codemirror_mode": {
    "name": "ipython",
    "version": 3
   },
   "file_extension": ".py",
   "mimetype": "text/x-python",
   "name": "python",
   "nbconvert_exporter": "python",
   "pygments_lexer": "ipython3",
   "version": "3.10.7"
  },
  "orig_nbformat": 4,
  "vscode": {
   "interpreter": {
    "hash": "aee8b7b246df8f9039afb4144a1f6fd8d2ca17a180786b69acc140d282b71a49"
   }
  }
 },
 "nbformat": 4,
 "nbformat_minor": 2
}
